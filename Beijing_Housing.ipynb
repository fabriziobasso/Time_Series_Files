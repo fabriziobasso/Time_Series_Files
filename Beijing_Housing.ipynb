{
  "nbformat": 4,
  "nbformat_minor": 0,
  "metadata": {
    "colab": {
      "provenance": [],
      "toc_visible": true,
      "authorship_tag": "ABX9TyO4bkwezfP/dojrBC2pmTKu",
      "include_colab_link": true
    },
    "kernelspec": {
      "name": "python3",
      "display_name": "Python 3"
    },
    "language_info": {
      "name": "python"
    }
  },
  "cells": [
    {
      "cell_type": "markdown",
      "metadata": {
        "id": "view-in-github",
        "colab_type": "text"
      },
      "source": [
        "<a href=\"https://colab.research.google.com/github/fabriziobasso/Time_Series_Files/blob/main/Beijing_Housing.ipynb\" target=\"_parent\"><img src=\"https://colab.research.google.com/assets/colab-badge.svg\" alt=\"Open In Colab\"/></a>"
      ]
    },
    {
      "cell_type": "markdown",
      "source": [
        "# **Housing price in Beijing**\n",
        "Housing price of Beijing from 2011 to 2017, fetching from Lianjia.com\n",
        "\n",
        "### **About Dataset**\n",
        "**Context**: Housing price of Beijing from 2011 to 2017, fetching from Lianjia.com\n",
        "\n",
        "### **Content**\n",
        "It includes URL, ID, Lng, Lat, CommunityID, TradeTime, DOM(days on market), Followers, Total price, Price, Square, Living Room, number of Drawing room, Kitchen and Bathroom, Building Type, Construction time. renovation condition, building structure, Ladder ratio( which is the proportion between number of residents on the same floor and number of elevator of ladder. It describes how many ladders a resident have on average), elevator, Property rights for five years（It's related to China restricted purchase of houses policy), Subway, District, Community average price.\n",
        "\n",
        "Most data is traded in 2011-2017, some of them is traded in Jan,2018, and some is even earlier(2010,2009)\n",
        "\n",
        "All the data was fetching from https://bj.lianjia.com/chengjiao.\n",
        "\n",
        "**Acknowledgements**\n",
        "\n",
        "All the data was fetching from Lianjia\n",
        "\n",
        "**Inspiration**\n",
        "\n",
        "It may help you predict the housing price of Beijing.\n",
        "\n",
        "### **Geography Data**:\n",
        "\n",
        "Beijing Districts boundaries have been downloaded from: [Link](https://cartographyvectors.com/map/1140-beijing-municipality)"
      ],
      "metadata": {
        "id": "g0IpUnjcNgYr"
      }
    },
    {
      "cell_type": "markdown",
      "metadata": {
        "id": "y7wvddu4riye"
      },
      "source": [
        "## 1.0 Install Packages:"
      ]
    },
    {
      "cell_type": "code",
      "execution_count": 50,
      "metadata": {
        "id": "NssaJaAQngVv"
      },
      "outputs": [],
      "source": [
        "%%capture\n",
        "!pip install tensorflow-addons\n",
        "#!pip install shap\n",
        "#!pip install eli5\n",
        "#!pip install tf-nightly\n",
        "#!pip install -U scikit-learn==1.2.0\n",
        "!pip install catboost\n",
        "#!pip install haversine\n",
        "#!pip install umap-learn\n",
        "#!pip install reverse_geocoder\n",
        "#!pip install --upgrade protobuf\n",
        "!pip install colorama\n",
        "!pip install imbalanced-learn\n",
        "!pip install optuna\n",
        "!pip install optuna-integration\n",
        "!pip install pygam\n",
        "!pip install keras-tuner --upgrade\n",
        "!pip install pycaret\n",
        "#Install Geopandas\n",
        "!pip install geopandas"
      ]
    },
    {
      "cell_type": "markdown",
      "metadata": {
        "id": "-aEn1w28Dxbh"
      },
      "source": [
        "## **2.0 Packages**"
      ]
    },
    {
      "cell_type": "code",
      "execution_count": 51,
      "metadata": {
        "colab": {
          "base_uri": "https://localhost:8080/"
        },
        "id": "remwXrYBDxbh",
        "outputId": "0509ec3d-edc6-47b7-ca8e-b0db62376740"
      },
      "outputs": [
        {
          "output_type": "stream",
          "name": "stdout",
          "text": [
            "Importing started...\n",
            "Done, All the required modules are imported. Time elapsed: 0.018331289291381836 sec\n"
          ]
        }
      ],
      "source": [
        "#importing modules\n",
        "\n",
        "import warnings\n",
        "warnings.filterwarnings('ignore')\n",
        "import time\n",
        "t = time.time()\n",
        "\n",
        "print('Importing started...')\n",
        "\n",
        "# basic moduele\n",
        "import os\n",
        "import numpy as np\n",
        "import pandas as pd\n",
        "import re\n",
        "#from scipy import stats\n",
        "from random import randint\n",
        "import random\n",
        "import math\n",
        "import os\n",
        "import gc\n",
        "import pickle\n",
        "from glob import glob\n",
        "from IPython import display as ipd\n",
        "from tqdm import tqdm\n",
        "from datetime import datetime\n",
        "from joblib import dump, load\n",
        "import sklearn as sk\n",
        "from imblearn.over_sampling import SMOTE, RandomOverSampler\n",
        "from functools import partial\n",
        "import itertools\n",
        "from itertools import combinations\n",
        "import IPython\n",
        "import IPython.display\n",
        "\n",
        "import geopandas as gpd\n",
        "\n",
        "# visualization moduels\n",
        "import matplotlib.pyplot as plt\n",
        "import matplotlib as mpl\n",
        "import matplotlib.gridspec as gridspec\n",
        "import matplotlib.patches as mpatches\n",
        "%matplotlib inline\n",
        "import seaborn as sns\n",
        "import missingno as msno\n",
        "import imblearn\n",
        "\n",
        "# Palette Setup\n",
        "colors = ['#FB5B68','#FFEB48','#2676A1','#FFBDB0',]\n",
        "colormap_0 = mpl.colors.LinearSegmentedColormap.from_list(\"\",colors)\n",
        "palette_1 = sns.color_palette(\"coolwarm\", as_cmap=True)\n",
        "palette_2 = sns.color_palette(\"YlOrBr\", as_cmap=True)\n",
        "palette_3 = sns.light_palette(\"red\", as_cmap=True)\n",
        "palette_4 = sns.color_palette(\"viridis\", as_cmap=True)\n",
        "palette_5 = sns.color_palette(\"rocket\", as_cmap=True)\n",
        "palette_6 = sns.color_palette(\"GnBu\", as_cmap=True)\n",
        "palette_7 = sns.color_palette(\"tab20c\", as_cmap=False)\n",
        "palette_8 = sns.color_palette(\"Set2\", as_cmap=False)\n",
        "\n",
        "palette_custom = ['#fbb4ae','#b3cde3','#ccebc5','#decbe4','#fed9a6','#ffffcc','#e5d8bd','#fddaec','#f2f2f2']\n",
        "palette_9 = sns.color_palette(palette_custom, as_cmap=False)\n",
        "\n",
        "mpl.rcParams['axes.spines.left'] = True\n",
        "mpl.rcParams['axes.spines.right'] = False\n",
        "mpl.rcParams['axes.spines.top'] = False\n",
        "mpl.rcParams['axes.spines.bottom'] = True\n",
        "\n",
        "# Style Import\n",
        "from colorama import Style, Fore\n",
        "red = Style.BRIGHT + Fore.RED\n",
        "blu = Style.BRIGHT + Fore.BLUE\n",
        "mgt = Style.BRIGHT + Fore.MAGENTA\n",
        "gld = Style.BRIGHT + Fore.YELLOW\n",
        "res = Style.RESET_ALL\n",
        "\n",
        "# preprocessing modules\n",
        "from sklearn.model_selection import (train_test_split,\n",
        "                                     KFold,\n",
        "                                     StratifiedKFold,\n",
        "                                     cross_val_score,\n",
        "                                     GroupKFold,\n",
        "                                     GridSearchCV,\n",
        "                                     RepeatedStratifiedKFold)\n",
        "\n",
        "from sklearn.preprocessing import (LabelEncoder,\n",
        "                                   StandardScaler,\n",
        "                                   MinMaxScaler,\n",
        "                                   OrdinalEncoder,\n",
        "                                   RobustScaler,\n",
        "                                   PowerTransformer,\n",
        "                                   OneHotEncoder,\n",
        "                                   LabelEncoder,\n",
        "                                   OrdinalEncoder,\n",
        "                                   PolynomialFeatures)\n",
        "\n",
        "from sklearn.decomposition import PCA\n",
        "from sklearn.compose import ColumnTransformer\n",
        "\n",
        "from sklearn.feature_selection import SelectFromModel\n",
        "\n",
        "\n",
        "# metrics\n",
        "from sklearn.metrics import (mean_squared_error,\n",
        "                             r2_score,\n",
        "                             mean_absolute_error,\n",
        "                             mean_absolute_percentage_error,\n",
        "                             classification_report,\n",
        "                             confusion_matrix,\n",
        "                             ConfusionMatrixDisplay,\n",
        "                             multilabel_confusion_matrix,\n",
        "                             accuracy_score,\n",
        "                             roc_auc_score,\n",
        "                             auc,\n",
        "                             roc_curve,\n",
        "                             log_loss)\n",
        "\n",
        "\n",
        "# modeling algos\n",
        "from sklearn.linear_model import (LogisticRegression,\n",
        "                                  Lasso,\n",
        "                                  ridge_regression,\n",
        "                                  LinearRegression,\n",
        "                                  Ridge,\n",
        "                                  RidgeCV,\n",
        "                                  ElasticNet,\n",
        "                                  BayesianRidge,\n",
        "                                  TweedieRegressor,\n",
        "                                  ARDRegression,\n",
        "                                  PoissonRegressor,\n",
        "                                  GammaRegressor)\n",
        "\n",
        "from sklearn.neighbors import KNeighborsRegressor\n",
        "\n",
        "from sklearn.tree import DecisionTreeRegressor\n",
        "from sklearn.isotonic import IsotonicRegression\n",
        "\n",
        "from sklearn.ensemble import (AdaBoostRegressor,\n",
        "                              RandomForestRegressor,\n",
        "                              RandomForestClassifier,\n",
        "                              VotingRegressor,\n",
        "                              GradientBoostingRegressor,\n",
        "                              StackingRegressor,\n",
        "                              HistGradientBoostingClassifier,\n",
        "                              ExtraTreesClassifier)\n",
        "\n",
        "from sklearn.base import BaseEstimator, TransformerMixin\n",
        "\n",
        "# Other Models\n",
        "from pygam import LogisticGAM, s, te\n",
        "import xgboost as xgb\n",
        "from xgboost import XGBRegressor, XGBClassifier\n",
        "import lightgbm as lgb\n",
        "from lightgbm import (LGBMRegressor,\n",
        "                      LGBMClassifier,\n",
        "                      early_stopping,\n",
        "                      record_evaluation,\n",
        "                      log_evaluation)\n",
        "\n",
        "import catboost as cat\n",
        "from catboost import CatBoost, CatBoostRegressor\n",
        "from catboost import CatBoostClassifier\n",
        "\n",
        "from catboost.utils import get_roc_curve\n",
        "\n",
        "from lightgbm import early_stopping\n",
        "# check installed version\n",
        "import pycaret\n",
        "\n",
        "from sklearn.base import clone ## sklearn base models for stacked ensemble model\n",
        "from sklearn.calibration import CalibratedClassifierCV, CalibrationDisplay\n",
        "\n",
        "#Interpretiability of the model\n",
        "#import shap\n",
        "#import eli5\n",
        "#from eli5.sklearn import PermutationImportance\n",
        "\n",
        "\n",
        "## miss\n",
        "from sklearn.pipeline import (make_pipeline,\n",
        "                              Pipeline)\n",
        "\n",
        "\n",
        "import tensorflow as tf\n",
        "from tensorflow import keras\n",
        "from tensorflow.keras import layers\n",
        "import tensorflow.keras.backend as K\n",
        "import tensorflow_addons as tfa\n",
        "from keras.utils import FeatureSpace\n",
        "\n",
        "# Import libraries for Hypertuning\n",
        "import kerastuner as kt\n",
        "from kerastuner.tuners import RandomSearch, GridSearch, BayesianOptimization\n",
        "# Model Tuning tools:\n",
        "import optuna\n",
        "from optuna.integration import TFKerasPruningCallback\n",
        "from optuna.trial import TrialState\n",
        "from optuna.visualization import plot_intermediate_values\n",
        "from optuna.visualization import plot_optimization_history\n",
        "from optuna.visualization import plot_param_importances\n",
        "from optuna.visualization import plot_contour\n",
        "\n",
        "SEED = 1984\n",
        "N_SPLITS = 10\n",
        "\n",
        "print('Done, All the required modules are imported. Time elapsed: {} sec'.format(time.time()-t))"
      ]
    },
    {
      "cell_type": "code",
      "execution_count": 52,
      "metadata": {
        "id": "OAB1kcdZDxbi",
        "colab": {
          "base_uri": "https://localhost:8080/"
        },
        "outputId": "21c9f778-20d9-4d35-f9be-40a6807d229b"
      },
      "outputs": [
        {
          "output_type": "stream",
          "name": "stdout",
          "text": [
            "CHECK VERSIONS:\n",
            "sns: 0.12.2\n",
            "mpl: 3.7.1\n",
            "tensorflow: 2.12.0\n",
            "pandas: 1.5.3\n",
            "numpy: 1.23.5\n",
            "scikit-learn: 1.2.2\n",
            "missingno: 0.5.2\n",
            "Inbalance_Learning: 0.10.1\n",
            "XGBoost: 1.7.6\n",
            "CatBoost: 1.2\n",
            "PyCaret: 3.0.4\n",
            "GeoPandas: 0.13.2\n"
          ]
        }
      ],
      "source": [
        "# Check Versions:\n",
        "print(\"CHECK VERSIONS:\")\n",
        "print(f\"sns: {sns.__version__}\")\n",
        "print(f\"mpl: {mpl.__version__}\")\n",
        "print(f\"tensorflow: {tf.__version__}\")\n",
        "print(f\"pandas: {pd.__version__}\")\n",
        "print(f\"numpy: {np.__version__}\")\n",
        "print(f\"scikit-learn: {sk.__version__}\")\n",
        "#print(f\"statsmodels: {stm.__version__}\")\n",
        "print(f\"missingno: {msno.__version__}\")\n",
        "#print(f\"TF-addon: {tfa.__version__}\")\n",
        "print(f\"Inbalance_Learning: {imblearn.__version__}\")\n",
        "print(f\"XGBoost: {xgb.__version__}\")\n",
        "print(f\"CatBoost: {cat.__version__}\")\n",
        "print(f\"PyCaret: {pycaret.__version__}\")\n",
        "print(f\"GeoPandas: {gpd.__version__}\")"
      ]
    },
    {
      "cell_type": "markdown",
      "metadata": {
        "id": "hFAGryGDDxbi"
      },
      "source": [
        "Seeding:"
      ]
    },
    {
      "cell_type": "code",
      "execution_count": 53,
      "metadata": {
        "id": "3Yv_lYmRDxbi"
      },
      "outputs": [],
      "source": [
        "tf.random.set_seed(0)\n",
        "np.random.seed(0)\n",
        "random.seed(42)\n",
        "\n",
        "SEED = 42\n",
        "def seed_everything(seed=42):\n",
        "    random.seed(seed)\n",
        "    os.environ['PYTHONHASHSEED'] = str(seed)\n",
        "    np.random.seed(seed)\n",
        "    tf.random.set_seed(seed)\n",
        "    tf.compat.v1.set_random_seed(seed)\n",
        "    session_conf = tf.compat.v1.ConfigProto(intra_op_parallelism_threads=1, inter_op_parallelism_threads=1)\n",
        "    sess = tf.compat.v1.Session(graph=tf.compat.v1.get_default_graph(), config=session_conf)\n",
        "    tf.compat.v1.keras.backend.set_session(sess)\n",
        "\n",
        "seed_everything(SEED)"
      ]
    },
    {
      "cell_type": "markdown",
      "metadata": {
        "id": "STsF4sfaDxbj"
      },
      "source": [
        "### **2.1 Connect Drives**"
      ]
    },
    {
      "cell_type": "markdown",
      "metadata": {
        "id": "0D_HgNN1Dxbj"
      },
      "source": [
        "Verify System:"
      ]
    },
    {
      "cell_type": "code",
      "execution_count": 54,
      "metadata": {
        "id": "6nucekKRDxbj",
        "colab": {
          "base_uri": "https://localhost:8080/"
        },
        "outputId": "6ca5b981-a4d9-49f4-e009-3f0baaf3e623"
      },
      "outputs": [
        {
          "output_type": "stream",
          "name": "stdout",
          "text": [
            "/bin/bash: line 1: nvidia-smi: command not found\n"
          ]
        }
      ],
      "source": [
        "gpu_info = !nvidia-smi\n",
        "gpu_info = '\\n'.join(gpu_info)\n",
        "if gpu_info.find('failed') >= 0:\n",
        "  print('Not connected to a GPU')\n",
        "else:\n",
        "  print(gpu_info)"
      ]
    },
    {
      "cell_type": "markdown",
      "metadata": {
        "id": "2xwI9dKRDxbj"
      },
      "source": [
        "Connect to Google Drive:"
      ]
    },
    {
      "cell_type": "code",
      "execution_count": 55,
      "metadata": {
        "id": "XnZHOmpDDxbj"
      },
      "outputs": [],
      "source": [
        "%%capture\n",
        "# Connect to Colab:\n",
        "from google.colab import drive\n",
        "drive.mount('/content/drive')"
      ]
    },
    {
      "cell_type": "code",
      "execution_count": 56,
      "metadata": {
        "id": "tcufbAJ7JLTp",
        "colab": {
          "base_uri": "https://localhost:8080/"
        },
        "outputId": "78fadd1c-f0d5-4441-85e3-cff6f25f1f77"
      },
      "outputs": [
        {
          "output_type": "stream",
          "name": "stdout",
          "text": [
            "/content/drive/MyDrive/Exercises/Studies_Structured_Data/Data/Beijing_housing already exists\n",
            "/content/drive/MyDrive/Exercises/Studies_Structured_Data/Data/Beijing_housing/train_valid_data already exists\n",
            "/content/drive/MyDrive/Exercises/Time_Series_Studies/Models/Beijing_housing already exists\n",
            "/content/drive/MyDrive/Exercises/Time_Series_Studies/Models/Beijing_housing/neural_networks/ already exists\n",
            "/content/drive/MyDrive/Exercises/Time_Series_Studies/Models/Beijing_housing/tree_based_models/ already exists\n"
          ]
        }
      ],
      "source": [
        "folder_data = \"/content/drive/MyDrive/Exercises/Studies_Structured_Data/Data/Beijing_housing\"\n",
        "folder_train_valid = \"/content/drive/MyDrive/Exercises/Studies_Structured_Data/Data/Beijing_housing/train_valid_data\"\n",
        "models_folders = \"/content/drive/MyDrive/Exercises/Time_Series_Studies/Models/Beijing_housing\"\n",
        "folders_nn = \"/content/drive/MyDrive/Exercises/Time_Series_Studies/Models/Beijing_housing/neural_networks/\"\n",
        "folders_trees = \"/content/drive/MyDrive/Exercises/Time_Series_Studies/Models/Beijing_housing/tree_based_models/\"\n",
        "\n",
        "list_directories = [folder_data,folder_train_valid,models_folders,folders_nn,folders_trees]\n",
        "\n",
        "for path in list_directories:\n",
        "  try:\n",
        "      os.mkdir(path)\n",
        "  except OSError as error:\n",
        "      print(f\"{path} already exists\")\n",
        "\n",
        "\n",
        "os.chdir(folder_data)"
      ]
    },
    {
      "cell_type": "markdown",
      "metadata": {
        "id": "TIPsSWkAe2Cn"
      },
      "source": [
        "### 2.2 Utility Functions:"
      ]
    },
    {
      "cell_type": "code",
      "execution_count": 57,
      "metadata": {
        "id": "8eDord_0e15w"
      },
      "outputs": [],
      "source": [
        "def visualize_loss(history, title):\n",
        "    loss = history.history[\"loss\"]\n",
        "    val_loss = history.history[\"val_loss\"]\n",
        "    epochs = range(len(loss))\n",
        "    plt.figure()\n",
        "    plt.plot(epochs, loss, \"b\", label=\"Training loss\")\n",
        "    plt.plot(epochs, val_loss, \"r\", label=\"Validation loss\")\n",
        "    plt.title(title)\n",
        "    plt.xlabel(\"Epochs\")\n",
        "    plt.ylabel(\"Loss\")\n",
        "    plt.legend()\n",
        "    plt.show()"
      ]
    },
    {
      "cell_type": "markdown",
      "metadata": {
        "id": "w3FQ7HXrVOKh"
      },
      "source": [
        "## **3.0 Import Data**\n",
        "\n",
        "## The weather dataset\n",
        "\n",
        "This tutorial uses a <a href=\"https://www.bgc-jena.mpg.de/wetter/\" class=\"external\">weather time series dataset</a> recorded by the <a href=\"https://www.bgc-jena.mpg.de\" class=\"external\">Max Planck Institute for Biogeochemistry</a>.\n",
        "\n",
        "This dataset contains 14 different features such as air temperature, atmospheric pressure, and humidity. These were collected every 10 minutes, beginning in 2003. For efficiency, you will use only the data collected between 2009 and 2016. This section of the dataset was prepared by François Chollet for his book <a href=\"https://www.manning.com/books/deep-learning-with-python\" class=\"external\">Deep Learning with Python</a>."
      ]
    },
    {
      "cell_type": "code",
      "execution_count": 58,
      "metadata": {
        "id": "0-eFeo5nVmYo"
      },
      "outputs": [],
      "source": [
        "custom_date_parser = lambda x: datetime.strptime(x, '%Y-%m-%d') # %H:%M:%S\n",
        "path = \"Beijing_housing.csv\"\n",
        "df = pd.read_csv(path,\n",
        "                 encoding='gb2312',\n",
        "                 parse_dates=['tradeTime'],\n",
        "                 date_parser=custom_date_parser\n",
        "                 )\n",
        "# Slice [start:stop:step], starting from index 5 take every 6th record. --> This is because\n",
        "# only Hourly data are considered while the original dataset is in minutes\n",
        "\n",
        "#df = df[5::6]\n",
        "df.drop([\"url\",\"id\",\"price\"],axis=1,inplace=True)\n",
        "#date_time = df.pop('Date Time')"
      ]
    },
    {
      "cell_type": "code",
      "source": [
        "df.info()"
      ],
      "metadata": {
        "colab": {
          "base_uri": "https://localhost:8080/"
        },
        "id": "0UfAJFUi1dm0",
        "outputId": "708e77b8-bc90-43b2-83cf-934f049fea89"
      },
      "execution_count": 59,
      "outputs": [
        {
          "output_type": "stream",
          "name": "stdout",
          "text": [
            "<class 'pandas.core.frame.DataFrame'>\n",
            "RangeIndex: 318851 entries, 0 to 318850\n",
            "Data columns (total 23 columns):\n",
            " #   Column               Non-Null Count   Dtype         \n",
            "---  ------               --------------   -----         \n",
            " 0   Lng                  318851 non-null  float64       \n",
            " 1   Lat                  318851 non-null  float64       \n",
            " 2   Cid                  318851 non-null  int64         \n",
            " 3   tradeTime            318851 non-null  datetime64[ns]\n",
            " 4   DOM                  160874 non-null  float64       \n",
            " 5   followers            318851 non-null  int64         \n",
            " 6   totalPrice           318851 non-null  float64       \n",
            " 7   square               318851 non-null  float64       \n",
            " 8   livingRoom           318851 non-null  object        \n",
            " 9   drawingRoom          318851 non-null  object        \n",
            " 10  kitchen              318851 non-null  int64         \n",
            " 11  bathRoom             318851 non-null  object        \n",
            " 12  floor                318851 non-null  object        \n",
            " 13  buildingType         316830 non-null  float64       \n",
            " 14  constructionTime     318851 non-null  object        \n",
            " 15  renovationCondition  318851 non-null  int64         \n",
            " 16  buildingStructure    318851 non-null  int64         \n",
            " 17  ladderRatio          318851 non-null  float64       \n",
            " 18  elevator             318819 non-null  float64       \n",
            " 19  fiveYearsProperty    318819 non-null  float64       \n",
            " 20  subway               318819 non-null  float64       \n",
            " 21  district             318851 non-null  int64         \n",
            " 22  communityAverage     318388 non-null  float64       \n",
            "dtypes: datetime64[ns](1), float64(11), int64(6), object(5)\n",
            "memory usage: 56.0+ MB\n"
          ]
        }
      ]
    },
    {
      "cell_type": "code",
      "source": [
        "df.isna().sum()"
      ],
      "metadata": {
        "colab": {
          "base_uri": "https://localhost:8080/"
        },
        "id": "ZrOG76i1_NyZ",
        "outputId": "08a5efe9-d845-4554-df6b-84bdf3ef1b28"
      },
      "execution_count": 60,
      "outputs": [
        {
          "output_type": "execute_result",
          "data": {
            "text/plain": [
              "Lng                         0\n",
              "Lat                         0\n",
              "Cid                         0\n",
              "tradeTime                   0\n",
              "DOM                    157977\n",
              "followers                   0\n",
              "totalPrice                  0\n",
              "square                      0\n",
              "livingRoom                  0\n",
              "drawingRoom                 0\n",
              "kitchen                     0\n",
              "bathRoom                    0\n",
              "floor                       0\n",
              "buildingType             2021\n",
              "constructionTime            0\n",
              "renovationCondition         0\n",
              "buildingStructure           0\n",
              "ladderRatio                 0\n",
              "elevator                   32\n",
              "fiveYearsProperty          32\n",
              "subway                     32\n",
              "district                    0\n",
              "communityAverage          463\n",
              "dtype: int64"
            ]
          },
          "metadata": {},
          "execution_count": 60
        }
      ]
    },
    {
      "cell_type": "code",
      "source": [
        "msno.matrix(df)"
      ],
      "metadata": {
        "colab": {
          "base_uri": "https://localhost:8080/",
          "height": 741
        },
        "id": "9vD0ohSGb_IT",
        "outputId": "59e63a39-e9d8-4dec-cb00-9899b6a628b3"
      },
      "execution_count": 61,
      "outputs": [
        {
          "output_type": "execute_result",
          "data": {
            "text/plain": [
              "<Axes: >"
            ]
          },
          "metadata": {},
          "execution_count": 61
        },
        {
          "output_type": "display_data",
          "data": {
            "text/plain": [
              "<Figure size 2500x1000 with 2 Axes>"
            ],
            "image/png": "[encoded data removed]"
          },
          "metadata": {}
        }
      ]
    },
    {
      "cell_type": "markdown",
      "source": [
        "### 3.1 Features Modification: Year and Month\n",
        "\n",
        "Year and month of transaction are extracted to create two indipendent features:"
      ],
      "metadata": {
        "id": "El77k6wec4mY"
      }
    },
    {
      "cell_type": "code",
      "execution_count": 37,
      "metadata": {
        "id": "sZRWpXQCNT5v"
      },
      "outputs": [],
      "source": [
        "df.head(3).tradeTime[0].year\n",
        "df[\"Year\"] = df.tradeTime.apply(lambda x: x.year)\n",
        "df[\"Month\"] = df.tradeTime.apply(lambda x: x.month)"
      ]
    },
    {
      "cell_type": "markdown",
      "source": [
        "### 3.2 Floor Transformation\n",
        "\n",
        "The Feature *floor* has as entry two parts:\n",
        "\n",
        "- The location of the property on the floor denoted by a Chinese caracter\n",
        "- The actual Floor"
      ],
      "metadata": {
        "id": "6TioQ7MXduUd"
      }
    },
    {
      "cell_type": "code",
      "source": [
        "df[\"floor\"].unique()[:10]"
      ],
      "metadata": {
        "colab": {
          "base_uri": "https://localhost:8080/"
        },
        "id": "0BpRjtp_eId_",
        "outputId": "e1afaef8-d66b-4637-fab2-da401c1c75e7"
      },
      "execution_count": 92,
      "outputs": [
        {
          "output_type": "execute_result",
          "data": {
            "text/plain": [
              "array(['高 26', '高 22', '中 4', '底 21', '中 6', '中 8', '高 6', '高 10', '中 23',\n",
              "       '底 11'], dtype=object)"
            ]
          },
          "metadata": {},
          "execution_count": 92
        }
      ]
    },
    {
      "cell_type": "markdown",
      "source": [
        "The two feature are split in two different variables, *Floor* and and *floor_pos*:"
      ],
      "metadata": {
        "id": "IT5qg-Q7eRTQ"
      }
    },
    {
      "cell_type": "code",
      "source": [
        "df[\"Floor\"] = [i[0] for i in df[\"floor\"]]#df.floor.apply(lambda x: x.split()[0])\n",
        "df[\"Floor\"].value_counts()"
      ],
      "metadata": {
        "colab": {
          "base_uri": "https://localhost:8080/"
        },
        "id": "teQL4Gz3cLhk",
        "outputId": "a220f5c0-4dcd-4057-d497-98f7b6ab6cc2"
      },
      "execution_count": 83,
      "outputs": [
        {
          "output_type": "execute_result",
          "data": {
            "text/plain": [
              "中    119832\n",
              "高     70094\n",
              "低     64136\n",
              "顶     37406\n",
              "底     26080\n",
              "未      1271\n",
              "钢        17\n",
              "混        15\n",
              "Name: Floor, dtype: int64"
            ]
          },
          "metadata": {},
          "execution_count": 83
        }
      ]
    },
    {
      "cell_type": "code",
      "source": [
        "df[\"Floor_pos\"] = [i[-2:] for i in df[\"floor\"]]\n",
        "df[\"Floor_pos\"].value_counts()"
      ],
      "metadata": {
        "colab": {
          "base_uri": "https://localhost:8080/"
        },
        "id": "S_xaZLKnca0i",
        "outputId": "b0652c9f-de0c-4c43-b924-dab06056b259"
      },
      "execution_count": 91,
      "outputs": [
        {
          "output_type": "execute_result",
          "data": {
            "text/plain": [
              " 6    107791\n",
              "18     23013\n",
              "16     15999\n",
              "24     13594\n",
              " 5     13467\n",
              "20     10025\n",
              " 7      9961\n",
              "11      9643\n",
              "22      9228\n",
              "12      9118\n",
              "21      9018\n",
              "14      8837\n",
              "28      7449\n",
              "15      7283\n",
              " 9      7109\n",
              "26      6886\n",
              "25      6403\n",
              "10      5707\n",
              "17      5233\n",
              "27      4854\n",
              "19      4721\n",
              "13      4311\n",
              "23      3539\n",
              " 4      3023\n",
              "32      2477\n",
              "30      2472\n",
              " 8      2342\n",
              "29      1836\n",
              " 3      1098\n",
              "31       670\n",
              "33       571\n",
              "34       555\n",
              " 1       332\n",
              " 2       185\n",
              "42        34\n",
              "结构        32\n",
              "37        16\n",
              "36        12\n",
              "35         4\n",
              "57         2\n",
              "63         1\n",
              "Name: Floor_pos, dtype: int64"
            ]
          },
          "metadata": {},
          "execution_count": 91
        }
      ]
    },
    {
      "cell_type": "markdown",
      "source": [
        "- Some of the entries have extremely low frequency and therefore they are aggregated in a common lot.  A threshold of \"100\" Observations is used.\n",
        "  * 35-36-37 are added to 34.\n",
        "  * 42-57-63 are merged together.\n",
        "  * 结构 is replaced with 0.  "
      ],
      "metadata": {
        "id": "uXybb4hSpFZ6"
      }
    },
    {
      "cell_type": "code",
      "source": [
        "rep_dict_0 = {\"35\":34,\"36\":34,\"37\":34}\n",
        "rep_dict_1 = {57:42,63:42}\n",
        "rep_dict_2 = {\"结构\":0}\n",
        "\n",
        "\n",
        "df[\"Floor_pos\"] = df[\"Floor_pos\"].replace(rep_dict_0)\n",
        "df[\"Floor_pos\"] = df[\"Floor_pos\"].replace(rep_dict_1)\n",
        "df[\"Floor_pos\"] = df[\"Floor_pos\"].replace(rep_dict_2)\n",
        "df[\"Floor_pos\"] = df[\"Floor_pos\"].astype(np.int32())"
      ],
      "metadata": {
        "id": "zzdlbfMKhE7U"
      },
      "execution_count": 106,
      "outputs": []
    },
    {
      "cell_type": "code",
      "source": [
        "df[\"Floor_pos\"].value_counts()"
      ],
      "metadata": {
        "colab": {
          "base_uri": "https://localhost:8080/"
        },
        "id": "Z2R_-ZVvqQ1P",
        "outputId": "65d23292-1593-4d95-af0f-d69f36d9368f"
      },
      "execution_count": 107,
      "outputs": [
        {
          "output_type": "execute_result",
          "data": {
            "text/plain": [
              "6     107791\n",
              "18     23013\n",
              "16     15999\n",
              "24     13594\n",
              "5      13467\n",
              "20     10025\n",
              "7       9961\n",
              "11      9643\n",
              "22      9228\n",
              "12      9118\n",
              "21      9018\n",
              "14      8837\n",
              "28      7449\n",
              "15      7283\n",
              "9       7109\n",
              "26      6886\n",
              "25      6403\n",
              "10      5707\n",
              "17      5233\n",
              "27      4854\n",
              "19      4721\n",
              "13      4311\n",
              "23      3539\n",
              "4       3023\n",
              "32      2477\n",
              "30      2472\n",
              "8       2342\n",
              "29      1836\n",
              "3       1098\n",
              "31       670\n",
              "34       587\n",
              "33       571\n",
              "1        332\n",
              "2        185\n",
              "42        37\n",
              "0         32\n",
              "Name: Floor_pos, dtype: int64"
            ]
          },
          "metadata": {},
          "execution_count": 107
        }
      ]
    },
    {
      "cell_type": "code",
      "source": [],
      "metadata": {
        "id": "uQIHqVYPtKaI"
      },
      "execution_count": null,
      "outputs": []
    }
  ]
}